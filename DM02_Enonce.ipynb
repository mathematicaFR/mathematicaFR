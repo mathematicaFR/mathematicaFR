{
 "cells": [
  {
   "cell_type": "markdown",
   "metadata": {
    "id": "pZTeDFV3HlB1"
   },
   "source": [
    "\n",
    "\n",
    "> DM n°2 - *à rendre avant mercredi 09 Novembre*\n",
    "\n",
    "# <center>  **Méthode d'Euler explicite et application** </center> "
   ]
  },
  {
   "cell_type": "markdown",
   "metadata": {
    "id": "Vz3c6gOkHzW7"
   },
   "source": [
    "**Objectifs :** Mettre en oeuvre la méthode d'Euler, à l'aide d'un langage de programmation, pour simuler la réponse d'un système linéaire du premier ordre à une excitation de forme quelconque."
   ]
  },
  {
   "cell_type": "markdown",
   "metadata": {
    "id": "45xJuEeNJGg-"
   },
   "source": [
    "## Principe de la méthode d'Euler explicite\n",
    "\n",
    "\n",
    "La méthode d'Euler explicite est une **méthode itérative** qui permet de déterminer numériquement **une solution approchée** de l'équation différentielle $y'(t)=F(y(t),t)$, sur l'intervalle $[t_0, t_f]$, avec la condition initiale $y(t_0)=y_0$ (problème de Cauchy). Elle découle de la définition de la dérivée :\n",
    "\n",
    "$$y'(t)=\\frac{dy}{dt}=\\lim_{\\delta t \\to 0} \\frac{\\delta y}{\\delta t}=\\lim_{\\delta t \\to 0} \\frac{y(t+\\delta t)-y(t)}{\\delta t} \\Rightarrow y(t+\\delta t)=y(t)+y'(t) \\times \\delta t \\text{ avec $\\delta t \\to 0$}$$\n",
    "\n",
    "\n",
    "La procédure algorithmique est la suivante :\n",
    "\n",
    "\n",
    "*   On commence par réaliser une subdivision régulière de l'intervalle $[t_0,t_f]$ en $N$ sous-intervalles de largeur $\\delta t=\\frac{t_f-t_0}{N}$ ($\\delta t$ est le pas de résolution), ce qui revient à générer un ensemble de points d'abscisses $t_k$ telles que\n",
    "\n",
    "$$t_k = t_0 + k \\times \\delta t \\text{ avec $k$ variant de $0$ à $N$.}$$\n",
    "\n",
    "*   On cherche ensuite une valeur numérique approchée de $y(t_k)$; cette valeur approchée est notée $y_k$. $y_0$ étant connu grâce à la condition initiale, on détermine les valeurs $y_k$ en procédant de proche en proche grâce à la relation de récurrence (ou schéma numérique)\n",
    "\n",
    "$$\\boxed{y_{k+1} =y_k +F(y_k,t_k) \\times \\delta t}$$\n",
    "\n",
    "\n"
   ]
  },
  {
   "cell_type": "markdown",
   "metadata": {
    "id": "5XciGkRoKuAK"
   },
   "source": [
    "## Implémentation en language **Python**\n",
    "\n",
    "La fonction euler définie dans le script ci-dessous est une implémentation possible de la méthode d'Euler explicite. Le choix a été fait ici de travailler avec des structures de données de type list mais il est tout à fait possible de travailler avec des array numpy de façon à faciliter un éventuel traitement ultérieur des variables de sortie. Vous devez compléter la \"Boucle permettant le calcul des yk par récurrence\".\n"
   ]
  },
  {
   "cell_type": "code",
   "execution_count": 1,
   "metadata": {
    "id": "_fz_sSVNMDTg"
   },
   "outputs": [
    {
     "ename": "SyntaxError",
     "evalue": "invalid syntax (<ipython-input-1-d857b2f08d7c>, line 28)",
     "output_type": "error",
     "traceback": [
      "\u001b[0;36m  File \u001b[0;32m\"<ipython-input-1-d857b2f08d7c>\"\u001b[0;36m, line \u001b[0;32m28\u001b[0m\n\u001b[0;31m    t.append(à compléter) #ajout de t[k]+dt à la liste t\u001b[0m\n\u001b[0m               ^\u001b[0m\n\u001b[0;31mSyntaxError\u001b[0m\u001b[0;31m:\u001b[0m invalid syntax\n"
     ]
    }
   ],
   "source": [
    "import numpy as np\n",
    "import matplotlib.pyplot as plt\n",
    "\n",
    "\n",
    "## Implémentation de la méthode d'Euler explicite\n",
    "\n",
    "\n",
    "def euler(F, y0, t0, tf, N):\n",
    "  \"\"\" \n",
    "  Résout le problème de Cauchy y'(t)=F(y(t),t) avec y(0)=y0 par la méthode \n",
    "  d'Euler explicite.\n",
    "  Arguments d'entrée : \n",
    "    - F : fonction donnant y' (fonction de 2 variables) ;\n",
    "    - y0 : condition initiale sur y (flottant) ;\n",
    "    - t0 et tf : bornes de l'intervalle de résolution (flottants) ;\n",
    "    - N : nombre d'éléments dans chaque liste, définit le pas delta t=(tf-ti)/N.\n",
    "  Variables de sortie :\n",
    "    - t : liste contenant l'ensemble des instants tk ;\n",
    "    - y : liste contenant l'ensemble des valeurs approchées yk .\n",
    "  \"\"\"\n",
    "  # Initialisation des variables de sortie\n",
    "  dt=(tf-t0)/N #calcul du pas\n",
    "  t=[t0] #construction de la liste\n",
    "  y=[y0] # prise en compte de la CI\n",
    "\n",
    "  # Boucle permettant le calcul des yk par récurrence  , A COMPLETER\n",
    "  for k in range(0,N-1):\n",
    "    t.append(à compléter) #ajout de t[k]+dt à la liste t\n",
    "    y.append(à compléter) #ajout de y[k] + F(y[k],t[k])*dt à liste y, conformément à la relation de récurrence explicitée plus haut\n",
    "  return t, y"
   ]
  },
  {
   "cell_type": "markdown",
   "metadata": {
    "id": "unsE6ABAK3gs"
   },
   "source": [
    "# Application à la réponse d'un circuit RC à un échelon de tension\n"
   ]
  },
  {
   "cell_type": "markdown",
   "metadata": {
    "id": "46qBAxK1NHXj"
   },
   "source": [
    "## Charge du condensateur\n",
    "\n",
    "On considère la situation classique de la figure ci-dessous : le condensateur étant initialement déchargé, on ferme l'interrupteur $K$ à l'instant $t=0$.\n",
    "\n",
    "![](https://www.pcsi2.net/fabert/wp-content/uploads/physique/DM-02-Circuit-RC.jpg) \n",
    "\n",
    "\n",
    "Pour $t\\geq 0$, l'évolution de la tension $u$ aux bornes du condensateur est régie par l'équation différentielle \n",
    "\n",
    "$$\\begin{cases}\n",
    "\\frac{du(t)}{dt}+\\frac{u(t)}{\\tau}=\\frac{E}{\\tau}\\\\\n",
    "u(0)=0\n",
    "\\end{cases}$$\n",
    "\n"
   ]
  },
  {
   "cell_type": "code",
   "execution_count": null,
   "metadata": {
    "id": "nIqZT_4mRklu"
   },
   "outputs": [],
   "source": [
    "## Implémentation du problème de Cauchy dans le cas de la charge d'un circuit RC\n",
    "\n",
    "def chargeRC(u,t):\n",
    "  \"\"\"\n",
    "  fonction explicitant du/dt en fonction de u, t et tau\n",
    "  \"\"\"\n",
    "  return E/tau-u/tau\n",
    "\n",
    "u0=0\n",
    "tau=1 #ms\n",
    "E=5 #V\n",
    "t0=0\n",
    "tf=10\n",
    "N=100\n",
    "\n",
    "t,u=euler(chargeRC,u0,t0,tf,N)\n",
    "\n",
    "## tracé\n",
    "plt.figure(figsize=(12,6))\n",
    "plt.title(\"Circuit RC soumis à un échelon de tension\")\n",
    "plt.xlabel(\" t en ms\")\n",
    "plt.ylabel(\" u en V\")\n",
    "plt.grid(True)\n",
    "\n",
    "plt.plot(t,u,\"b.-\",label=\"Solution approchée\")\n",
    "plt.legend(loc='best')\n",
    "plt.show()\n",
    "\n"
   ]
  },
  {
   "cell_type": "markdown",
   "metadata": {
    "id": "VbsRjftbW66y"
   },
   "source": [
    "On retrouve bien la forme attendue !\n",
    "\n",
    "Comparons avec la solution exacte."
   ]
  },
  {
   "cell_type": "code",
   "execution_count": null,
   "metadata": {
    "id": "1tIiwDxsTksU"
   },
   "outputs": [],
   "source": [
    "## Comparaison avec la solution exacte\n",
    "\n",
    "def sol_chargeRC(t):\n",
    "    t=np.array(t)\n",
    "    return E*(1-np.exp(-t/tau))\n",
    "\n",
    "plt.figure(figsize=(12,6))\n",
    "plt.plot(t,u,\"b.-\",label=\"Solution approchée\")\n",
    "plt.plot(t,sol_chargeRC(t),\"r\",label=\"Solution exacte\")\n",
    "plt.legend(loc='best')\n",
    "plt.show()\n",
    "\n"
   ]
  },
  {
   "cell_type": "markdown",
   "metadata": {
    "id": "zt5M-dWGXIuh"
   },
   "source": [
    "Faire varier le pas de résolution en modifiant $N$ dans la cellule suivante."
   ]
  },
  {
   "cell_type": "code",
   "execution_count": null,
   "metadata": {
    "id": "yn6w_WCsXdU_"
   },
   "outputs": [],
   "source": [
    "\n",
    "N=            #à faire varier\n",
    "\n",
    "t,u=euler(chargeRC,u0,t0,tf,N)\n",
    "\n",
    "## tracés\n",
    "plt.figure(figsize=(12,6))\n",
    "plt.title(\"Circuit RC soumis à un échelon de tension\")\n",
    "plt.xlabel(\" t en ms\")\n",
    "plt.ylabel(\" u en V\")\n",
    "plt.grid(True)\n",
    "\n",
    "plt.plot(t,u,\".-\",label=\"Solution approchée\")\n",
    "plt.plot(t,sol_chargeRC(t),\"r\",label=\"Solution exacte\")\n",
    "plt.legend(loc='best')\n",
    "plt.show()"
   ]
  },
  {
   "cell_type": "markdown",
   "metadata": {
    "id": "qQCBzHt3QSfJ"
   },
   "source": [
    "En déduire pourquoi on a tout intêret à prendre $dt \\ll \\tau$. Que se passe-t-il si on prend $dt$ très très faible ?\n",
    "\n",
    "Vous donnerez votre réponse dans la cellule ci-dessous."
   ]
  },
  {
   "cell_type": "markdown",
   "metadata": {
    "id": "Gf-GHw2pQbOD"
   },
   "source": []
  },
  {
   "cell_type": "markdown",
   "metadata": {
    "id": "I6W7j_ypXm3C"
   },
   "source": [
    "## Décharge du condensateur\n",
    "\n",
    "Adaptez le code précédent pour définir la fonction dechargeRC et tracer l'évolution de $u(t)$ dans le problème de Cauchy\n",
    "\n",
    "Pour $t\\geq 0$, \n",
    "\n",
    "$$\\begin{cases}\n",
    "\\frac{du(t)}{dt}+\\frac{u(t)}{\\tau}=0\\\\\n",
    "u(0)=E\n",
    "\\end{cases}$$"
   ]
  },
  {
   "cell_type": "code",
   "execution_count": null,
   "metadata": {
    "id": "a9zWBtBrsrlS"
   },
   "outputs": [],
   "source": [
    "## Implémentation du problème de Cauchy dans le cas de la décharge d'un circuit RC\n",
    "\n",
    "def dechargeRC(u,t):\n",
    "  \"\"\"\n",
    "  fonction explicitant du/dt en fonction de u, t et tau\n",
    "  \"\"\"\n",
    "  return # à compléter\n",
    "\n",
    "u0=5\n",
    "tau=1 #ms\n",
    "t0=0\n",
    "tf=10\n",
    "N=500\n",
    "\n",
    "t,u=euler(dechargeRC,u0,t0,tf,N)\n",
    "\n",
    "## tracé\n",
    "plt.figure(figsize=(12,6))\n",
    "plt.title(\"Circuit RC soumis à un échelon de tension\")\n",
    "plt.xlabel(\" t en ms\")\n",
    "plt.ylabel(\" u en V\")\n",
    "plt.grid(True)\n",
    "\n",
    "plt.plot(t,u,\"b.-\",label=\"Solution approchée\")\n",
    "plt.legend(loc='best')\n",
    "plt.show()"
   ]
  },
  {
   "cell_type": "markdown",
   "metadata": {
    "id": "f6bDiON-srlT"
   },
   "source": [
    "# Etude d'un onduleur"
   ]
  },
  {
   "cell_type": "markdown",
   "metadata": {
    "id": "iaKCojdfsrlT"
   },
   "source": [
    "## Présentation du problème et des modalités pratiques\n",
    "\n",
    "Afin d'alimenter une installation électrique, la puissance continue délivrée par un panneau photo-voltaïque doit être convertie en puissance alternative. Cette conversion est réalisée au moyen d'un onduleur, comme schématisé sur la figure ci-dessous.\n",
    "\n",
    "\n",
    "![](https://www.pcsi2.net/fabert/wp-content/uploads/physique/DM-02-Onduleur.jpg)\n",
    "\n",
    "\n",
    "On cherche à modéliser le signal de sortie $s$ fourni par cet onduleur à l'installation, assimilée à une charge résistive $R$, ainsi qu'à observer l'influence de la séquence de commande des interrupteurs sur la forme du signal $s$.\n",
    "\n",
    "## Problème posé"
   ]
  },
  {
   "cell_type": "markdown",
   "metadata": {
    "id": "g5Ox2CpQsrlU"
   },
   "source": [
    "Montrez que les tensions $u(t)$ et $s(t)$ sont liées par l'équation\n",
    "$$\\frac{ds(t)}{dt}+ \\frac{s(t)}{\\tau} = \\frac{u(t)}{\\tau}$$\n",
    "\n",
    "Précisez l'expression du paramètre $\\tau$ et donnez-en une interprétation physique."
   ]
  },
  {
   "cell_type": "markdown",
   "metadata": {
    "id": "euMAKDhwsrlU"
   },
   "source": [
    "Ecrivez votre solution dans cette cellule (Cf [aide Markdown](https://www.markdownguide.org/basic-syntax/) et [aide LaTeX](https://zestedesavoir.com/tutoriels/826/introduction-a-latex/1322_completer-vos-documents/5376_des-mathematiques/) si nécessaire)."
   ]
  },
  {
   "cell_type": "markdown",
   "metadata": {
    "id": "B2ZeM4BxsrlV"
   },
   "source": [
    "On suppose dans un premier temps que la tension $u(t)$ est un signal créneau symétrique, d'amplitude $E$ et de période $T$ (telle que $f=\\frac{1}{T}=50$ Hz). La cellule ci-après permet de définir ce signal et de représenter son chronogramme."
   ]
  },
  {
   "cell_type": "code",
   "execution_count": null,
   "metadata": {
    "id": "sNwZVoiPsrlV"
   },
   "outputs": [],
   "source": [
    "## Saisie des données du problème\n",
    "\n",
    "### Constantes utiles\n",
    "\n",
    "E = 1                       # amplitude de la tension u (valeur arbitraire, en V)\n",
    "f = 50                      # fréquence de la tension u (en Hz)\n",
    "T = 1/f                     # période correspondante (en s)\n",
    "\n",
    "### Définition du signal u\n",
    "\n",
    "def u(t):\n",
    "  \"\"\" \n",
    "  Cette fonction permet de calculer la valeur instantanée de la tension u.\n",
    "  Entrée : instant t (flottant unique ou array numpy de flottants)\n",
    "  Sortie : tension u (flottant unique ou array numpy de flottants)\n",
    "  \"\"\"\n",
    "  d = t/T - int(t/T)               # partie décimale de t/T\n",
    "  if 0 <= d < 1/2:          \n",
    "    return E\n",
    "  else:\n",
    "    return -E\n",
    "\n",
    "### Représentation graphique\n",
    "t = np.linspace(0, 4*T, 800)\n",
    "plt.figure(figsize = (12,2.5))\n",
    "plt.plot(t, [u(val) for val in t], 'r-')\n",
    "plt.xlim(0, 4*T), plt.xlabel(r\"$t$ (en s)\")\n",
    "plt.ylim(-1.1*E, 1.1*E), plt.ylabel(r\"$u\\left(t\\right)$ (en V)\")\n",
    "plt.grid()\n",
    "plt.show()"
   ]
  },
  {
   "cell_type": "markdown",
   "metadata": {
    "id": "UTGqB7HCZSBs"
   },
   "source": [
    "On souhaite résoudre numériquement l'équation différentielle vérifiée par la tension $s(t)$ à l'aide de la méthode d'Euler explicite.\n",
    "\n",
    "Les valeurs de $L$ et de $R$ sont ajustées de sorte à avoir $\\tau=T/2\\pi$. Choisir, en la justifiant, une valeur du pas temporel adaptée à la résolution numérique de l'équation différentielle vérifiée par $s$, puis mettre en oeuvre cette résolution sur l'intervalle $\\left[0,4T\\right]$. Représenter les tensions $u$ et $s$ sur un même graphe."
   ]
  },
  {
   "cell_type": "code",
   "execution_count": null,
   "metadata": {
    "id": "aYl3Z_1XsrlW"
   },
   "outputs": [],
   "source": [
    "## Application à la résolution du problème\n",
    "\n",
    "### Constantes utiles  ->  A COMPLETER\n",
    "\n",
    "tau =                      # temps caractéristique associé à la charge de l'onduleur\n",
    "t0, tf =                   # bornes de l'intervalle de résolution\n",
    "N =                      # détermine le pas temporel choisi pour la résolution numérique\n",
    "\n",
    "### Définition de la fonction dérivée  ->  A COMPLETER\n",
    "\n",
    "def RL(s,t):\n",
    "  return ? # A compléter\n",
    "\n",
    "### Résolution du problème\n",
    "vt, vs = euler(RL, 0, t0, tf, N)\n",
    "vu = [u(t) for t in vt]\n",
    "\n",
    "plt.figure(figsize = (12,3))\n",
    "plt.plot(vt, vu, 'r-', label = r\"$u\\left(t\\right)$\")\n",
    "plt.plot(vt, vs, 'y-', label = r\"$s\\left(t\\right)$\")\n",
    "plt.xlim(t0,tf), plt.xlabel(r\"$t$ (en s)\") \n",
    "plt.ylim(-1.1*E,1.2*E), plt.ylabel(r\"$u\\left(t\\right)$, $s\\left(t\\right)$ (en V)\")\n",
    "plt.legend(loc = 'upper right')\n",
    "plt.grid()\n",
    "plt.show()"
   ]
  },
  {
   "cell_type": "markdown",
   "metadata": {
    "id": "-3G9ePcNsrlW"
   },
   "source": [
    "On modifie la séquence de commande des interrupteurs de façon à obtenir un signal $\\,u\\left(t\\right)\\,$ présentant des paliers nuls de durée $2t_1$, avec $\\,t_1 = T/12$.\n",
    "\n",
    "\n",
    "![](https://www.pcsi2.net/fabert/wp-content/uploads/physique/DM-02-Sequence-modifiee.jpg)\n",
    "\n",
    "\n",
    "Adapter la définition de la fonction $u(t)$ de façon à prendre en compte cette modification, puis reprendre la résolution numérique de l'équation différentielle vérifiée par la tension $s$."
   ]
  },
  {
   "cell_type": "code",
   "execution_count": null,
   "metadata": {
    "id": "YFSfBYy0srlX"
   },
   "outputs": [],
   "source": [
    "### Adaptation de la définition du signal u\n",
    "\n",
    "t1 =                      # temps caractéristique des paliers nuls, à compléter\n",
    "\n",
    "def u(t):\n",
    "  \"\"\" \n",
    "  Cette fonction permet de calculer la valeur instantanée de la tension u.\n",
    "  Entrée : instant t (flottant unique ou array numpy de flottants)\n",
    "  Sortie : tension u (flottant unique ou array numpy de flottants)\n",
    "  \"\"\"\n",
    "  d = t/T - int(t/T)          # partie décimale de t/T\n",
    "  d1 = t1/T\n",
    "  if d1 <= d < 1/2-d1:          \n",
    "    return E\n",
    "  elif 1/2+d1 <= d < 1-d1:\n",
    "    return -E\n",
    "  else:\n",
    "    return 0"
   ]
  },
  {
   "cell_type": "code",
   "execution_count": null,
   "metadata": {
    "id": "OXpe996msrlX"
   },
   "outputs": [],
   "source": [
    "### Nouvelle résolution du problème\n",
    "vt, vs = euler(RL, 0, t0, tf, N)\n",
    "vu = [u(t) for t in vt]\n",
    "\n",
    "plt.figure(figsize=(12,3))\n",
    "plt.plot(vt, vu, 'r-', label = r\"$u\\left(t\\right)$\")\n",
    "plt.plot(vt, vs, 'y-', label = r\"$s\\left(t\\right)$\")\n",
    "plt.xlim(t0,tf), plt.xlabel(r\"$t$ (en s)\") \n",
    "plt.ylim(-1.1*E,1.2*E), plt.ylabel(r\"$u\\left(t\\right)$, $s\\left(t\\right)$ (en V)\")\n",
    "plt.legend(loc = 'best')\n",
    "plt.grid()\n",
    "plt.show()"
   ]
  },
  {
   "cell_type": "markdown",
   "metadata": {
    "id": "cHmAXreusrlX"
   },
   "source": [
    "On propose de modéliser le signal $s\\left(t\\right)$ ainsi obtenu par le signal sinusoïdal $s_{\\textrm{mod}}\\left(t\\right)=\\dfrac{\\sqrt{6}\\,E}{\\pi}\\,\\sin\\left(2\\pi\\,f\\left(t-\\dfrac{T}{8}\\right)\\right)$.\n",
    "\n",
    "Contrôler graphiquement la pertinence d’une telle modélisation."
   ]
  },
  {
   "cell_type": "code",
   "execution_count": null,
   "metadata": {
    "id": "DaEswmmEsrlY"
   },
   "outputs": [],
   "source": [
    "## Définition du signal \"modèle\"\n",
    "\n",
    "def smod(t):\n",
    "  t=np.array(t)\n",
    "  return np.sqrt(6)*E/np.pi*np.sin(2*np.pi*f*(t-T/8))\n",
    "\n",
    "## Représentation graphique\n",
    "plt.figure(figsize=(12,3))\n",
    "plt.plot(vt, vu, 'r-', label = r\"$u\\left(t\\right)$\")\n",
    "plt.plot(vt, vs, 'y-', label = r\"Signal $s$ obtenu par résolution numérique\")\n",
    "plt.plot(vt,smod(vt),'m:', label = 'Signal modélisant s')\n",
    "plt.xlim(t0,tf), plt.xlabel(r\"$t$ (en s)\") \n",
    "plt.ylim(-1.1*E,1.2*E), plt.ylabel(r\"$u\\left(t\\right)$, $s\\left(t\\right)$ (en V)\")\n",
    "plt.legend(loc = 'best')\n",
    "plt.grid()\n",
    "plt.show()"
   ]
  },
  {
   "cell_type": "markdown",
   "metadata": {
    "id": "cclIyT2uRWaG"
   },
   "source": [
    "Commentez \n",
    "\n"
   ]
  }
 ],
 "metadata": {
  "colab": {
   "collapsed_sections": [],
   "provenance": []
  },
  "kernelspec": {
   "display_name": "Python 3",
   "language": "python",
   "name": "python3"
  },
  "language_info": {
   "codemirror_mode": {
    "name": "ipython",
    "version": 3
   },
   "file_extension": ".py",
   "mimetype": "text/x-python",
   "name": "python",
   "nbconvert_exporter": "python",
   "pygments_lexer": "ipython3",
   "version": "3.8.3"
  }
 },
 "nbformat": 4,
 "nbformat_minor": 1
}
